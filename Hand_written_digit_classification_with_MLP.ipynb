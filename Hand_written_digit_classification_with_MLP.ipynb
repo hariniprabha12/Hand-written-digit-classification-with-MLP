{
  "nbformat": 4,
  "nbformat_minor": 0,
  "metadata": {
    "colab": {
      "provenance": []
    },
    "kernelspec": {
      "name": "python3",
      "display_name": "Python 3"
    },
    "language_info": {
      "name": "python"
    }
  },
  "cells": [
    {
      "cell_type": "code",
      "source": [
        "import tensorflow as tf\n",
        "from tensorflow import keras\n",
        "import matplotlib.pyplot as plt\n",
        "import numpy as np\n",
        "\n",
        "# Load the MNIST dataset\n",
        "(X_train, y_train), (X_test, y_test) = keras.datasets.mnist.load_data()\n",
        "\n",
        "# Normalize the pixel values to the range [0, 1]\n",
        "X_train = X_train / 255.0\n",
        "X_test = X_test / 255.0\n",
        "\n",
        "# Flatten the input data\n",
        "X_train = X_train.reshape(-1, 28 * 28)\n",
        "X_test = X_test.reshape(-1, 28 * 28)\n",
        "\n",
        "# Define the model architecture\n",
        "model = keras.models.Sequential([\n",
        "    keras.layers.Dense(128, activation='relu', input_shape=(28 * 28,)),\n",
        "    keras.layers.Dense(64, activation='relu'),\n",
        "    keras.layers.Dense(10, activation='softmax')\n",
        "])\n",
        "\n",
        "# Compile the model\n",
        "model.compile(optimizer='adam',\n",
        "              loss='sparse_categorical_crossentropy',\n",
        "              metrics=['accuracy'])\n",
        "\n",
        "# Train the model\n",
        "model.fit(X_train, y_train, epochs=5, batch_size=64, validation_split=0.1)\n",
        "\n",
        "# Evaluate the model on the test set\n",
        "test_loss, test_acc = model.evaluate(X_test, y_test)\n",
        "print('Test accuracy:', test_acc)\n",
        "\n",
        "# Choose a random test image\n",
        "index = np.random.randint(0, len(X_test))\n",
        "test_image = X_test[index]\n",
        "true_label = y_test[index]\n",
        "\n",
        "# Make a prediction\n",
        "prediction = np.argmax(model.predict(test_image.reshape(1, -1)))\n",
        "\n",
        "# Display the image and prediction\n",
        "plt.imshow(test_image.reshape(28, 28), cmap='gray')\n",
        "plt.title(f\"True Label: {true_label}, Predicted Label: {prediction}\")\n",
        "plt.axis('off')\n",
        "plt.show()"
      ],
      "metadata": {
        "colab": {
          "base_uri": "https://localhost:8080/",
          "height": 654
        },
        "id": "U8RExihtBtFp",
        "outputId": "37e42945-fb99-49dc-f3dd-f7f65e558baa"
      },
      "execution_count": 3,
      "outputs": [
        {
          "output_type": "stream",
          "name": "stdout",
          "text": [
            "Epoch 1/5\n",
            "844/844 [==============================] - 4s 4ms/step - loss: 0.2880 - accuracy: 0.9170 - val_loss: 0.1334 - val_accuracy: 0.9607\n",
            "Epoch 2/5\n",
            "844/844 [==============================] - 3s 4ms/step - loss: 0.1228 - accuracy: 0.9629 - val_loss: 0.1179 - val_accuracy: 0.9670\n",
            "Epoch 3/5\n",
            "844/844 [==============================] - 4s 4ms/step - loss: 0.0832 - accuracy: 0.9745 - val_loss: 0.1041 - val_accuracy: 0.9688\n",
            "Epoch 4/5\n",
            "844/844 [==============================] - 3s 3ms/step - loss: 0.0625 - accuracy: 0.9810 - val_loss: 0.0864 - val_accuracy: 0.9775\n",
            "Epoch 5/5\n",
            "844/844 [==============================] - 3s 3ms/step - loss: 0.0493 - accuracy: 0.9843 - val_loss: 0.0865 - val_accuracy: 0.9752\n",
            "313/313 [==============================] - 1s 2ms/step - loss: 0.0782 - accuracy: 0.9760\n",
            "Test accuracy: 0.9760000109672546\n",
            "1/1 [==============================] - 0s 54ms/step\n"
          ]
        },
        {
          "output_type": "display_data",
          "data": {
            "text/plain": [
              "<Figure size 640x480 with 1 Axes>"
            ],
            "image/png": "[encoded data removed]"
          },
          "metadata": {}
        }
      ]
    }
  ]
}